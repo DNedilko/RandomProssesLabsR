{
 "cells": [
  {
   "cell_type": "markdown",
   "metadata": {
    "collapsed": true,
    "kernel": "SoS"
   },
   "source": [
    "## Завдання 3 - на R не вийшло, тому моделюю його на пайтоні у іншому файлі\n",
    "Змоделювати ланцюг Маркова з поглинанням для заданих \n",
    "перехідних і початкових ймовірностей (варіант із завдання 1, довжина \n",
    "реалізації – до поглинання). Кількість реалізацій – більше 100.\n",
    "Моделювання ланцюга маркова відбувається за таким алгоритмом:\n",
    "1. Моделюємо початковий стан – k.\n",
    "2. Перехід із стану k в наступний регламентує k-й рядок матриці, моделюємо наступний стан - стан k.\n",
    "3. Якщо необхідно моделювати наступний стан, то переходимо на 2.\n",
    "\n",
    "Матриця для мого варіанту виглядає так"
   ]
  },
  {
   "cell_type": "code",
   "execution_count": 1,
   "metadata": {
    "kernel": "SoS"
   },
   "outputs": [
    {
     "name": "stdout",
     "output_type": "stream",
     "text": [
      "[[1.   0.   0.   0.  ]\n",
      " [0.24 0.25 0.42 0.09]\n",
      " [0.24 0.05 0.24 0.47]\n",
      " [0.13 0.65 0.21 0.01]]\n"
     ]
    }
   ],
   "source": [
    "import numpy as np\n",
    "import matplotlib.pyplot as plt\n",
    "from matplotlib.lines import Line2D\n",
    "\n",
    "P =  np.array([[1, 0, 0, 0],[0.24, 0.25, 0.42, 0.09],[0.24, 0.05, 0.24, 0.47],[0.13, 0.65, 0.21, 0.01]])\n",
    "p0 = np.array([0.2,0.1,0.2,0.5])\n",
    "print(P) "
   ]
  },
  {
   "cell_type": "markdown",
   "metadata": {
    "kernel": "SoS"
   },
   "source": [
    "Обираємо кількість реалізацій"
   ]
  },
  {
   "cell_type": "code",
   "execution_count": 2,
   "metadata": {
    "kernel": "SoS"
   },
   "outputs": [],
   "source": [
    "M = int(input('Оберіть кількість реалізацій '))"
   ]
  },
  {
   "cell_type": "markdown",
   "metadata": {
    "kernel": "SoS"
   },
   "source": [
    "Допоміжна функція для визначення наступного стану:\n",
    "- генеруємо випадкове число\n",
    "- визначаємо для нього стан\n",
    "- виводимо номер стану"
   ]
  },
  {
   "cell_type": "code",
   "execution_count": 3,
   "metadata": {
    "kernel": "SoS"
   },
   "outputs": [],
   "source": [
    "# k_generator <- function(p){\n",
    "#     r <- runif(1000)[runif(1,1,1000)]\n",
    "#     curr <- 0\n",
    "#     for (i in 1:(length(p))){\n",
    "#         curr <- curr+p[i]\n",
    "#         if (curr>=r){return (i)}\n",
    "#     }\n",
    "# }\n",
    "\n",
    "def k_generator(p):\n",
    "    r = np.random.uniform(0, 1)\n",
    "    curr = 0\n",
    "    for i, pe in enumerate(p):\n",
    "        curr += pe\n",
    "        if curr>=r: \n",
    "            return i+1"
   ]
  },
  {
   "cell_type": "markdown",
   "metadata": {
    "kernel": "SoS"
   },
   "source": [
    "Почнімо моделювати ланцюг Маркова\n",
    "\n",
    "Спочатку беремо початковий стан р0 та генеруємо деяке число r. Визначаємо якому стану воно належить та переходимо у нього. Потім \"витягаємо\" цей стан з нашої матриці ймовірностей та так само генеруємо випадкове число, визначаємо стан та переходимо до нього, допоки не отримаємо одиницю. Повторюємо те саме М-1 разів"
   ]
  },
  {
   "cell_type": "code",
   "execution_count": 4,
   "metadata": {
    "kernel": "SoS"
   },
   "outputs": [],
   "source": [
    "stop = 1\n",
    "lens = []\n",
    "for m in range(M):\n",
    "    ktemp = []\n",
    "    k = k_generator(p0)\n",
    "    while k!= stop:\n",
    "        t = P[k-1]\n",
    "        k = k_generator(t)\n",
    "        ktemp.append(k)\n",
    "    lens.append(ktemp)"
   ]
  },
  {
   "cell_type": "markdown",
   "metadata": {
    "kernel": "SoS"
   },
   "source": [
    "Для зручної візуалізації скористаємося мовою R"
   ]
  },
  {
   "cell_type": "code",
   "execution_count": 5,
   "metadata": {
    "kernel": "SoS"
   },
   "outputs": [
    {
     "ename": "NameError",
     "evalue": "name 'f' is not defined",
     "output_type": "error",
     "traceback": [
      "\u001B[1;31m---------------------------------------------------------------------------\u001B[0m",
      "\u001B[1;31mNameError\u001B[0m                                 Traceback (most recent call last)",
      "\u001B[1;32m~\\AppData\\Local\\Temp/ipykernel_28036/171632025.py\u001B[0m in \u001B[0;36m<module>\u001B[1;34m\u001B[0m\n\u001B[1;32m----> 1\u001B[1;33m \u001B[0mf\u001B[0m \u001B[1;33m<\u001B[0m\u001B[1;33m-\u001B[0m \u001B[0mrunif\u001B[0m\u001B[1;33m(\u001B[0m\u001B[1;36m0\u001B[0m\u001B[1;33m,\u001B[0m\u001B[1;36m1\u001B[0m\u001B[1;33m,\u001B[0m\u001B[1;36m100\u001B[0m\u001B[1;33m)\u001B[0m\u001B[1;33m\u001B[0m\u001B[1;33m\u001B[0m\u001B[0m\n\u001B[0m\u001B[0;32m      2\u001B[0m \u001B[0mplot\u001B[0m\u001B[1;33m(\u001B[0m\u001B[0mf\u001B[0m\u001B[1;33m)\u001B[0m\u001B[1;33m\u001B[0m\u001B[1;33m\u001B[0m\u001B[0m\n\u001B[0;32m      3\u001B[0m \u001B[1;33m\u001B[0m\u001B[0m\n",
      "\u001B[1;31mNameError\u001B[0m: name 'f' is not defined"
     ]
    }
   ],
   "source": [
    "f <- runif(0,1,100)\n",
    "plot(f)\n"
   ]
  },
  {
   "cell_type": "code",
   "execution_count": null,
   "metadata": {
    "kernel": "SoS"
   },
   "outputs": [],
   "source": []
  }
 ],
 "metadata": {
  "kernelspec": {
   "display_name": "Python 3 (ipykernel)",
   "language": "python",
   "name": "python3"
  },
  "language_info": {
   "codemirror_mode": {
    "name": "ipython",
    "version": 3
   },
   "file_extension": ".py",
   "mimetype": "text/x-python",
   "name": "python",
   "nbconvert_exporter": "python",
   "pygments_lexer": "ipython3",
   "version": "3.10.0"
  },
  "sos": {
   "kernels": [
    [
     null,
     null,
     "",
     "",
     ""
    ]
   ],
   "panel": {
    "displayed": true,
    "height": 0
   }
  }
 },
 "nbformat": 4,
 "nbformat_minor": 1
}