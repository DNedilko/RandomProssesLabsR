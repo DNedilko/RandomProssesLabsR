{
 "cells": [
  {
   "cell_type": "markdown",
   "id": "7f0566dd",
   "metadata": {},
   "source": [
    "# Лабораторна робота з випадкових процесів №3\n",
    "                                            Виконала Неділько Дарина КМ-91\n",
    "\n",
    "## Завдання 1\n",
    "Для поглинаючого ланцюга Маркова знайти:\n",
    "- матрицю переходів;\n",
    "- фундаментальну матрицю;\n",
    "- середню кількість кроків, яку ланцюг знаходиться в стані коли процес почався зі стану ; \n",
    "- середню кількість кроків, яку ланцюг знаходиться в стані j коли початковий стан не заданий;\n",
    "- середній час поглинання;\n",
    "- ймовірність поглинання;\n",
    "\n",
    "## Варіант 8\n",
    "Для мого варіанту матриця переходу та вектор p0 виглядають так:"
   ]
  },
  {
   "cell_type": "code",
   "execution_count": 1,
   "id": "769485fc",
   "metadata": {},
   "outputs": [
    {
     "name": "stdout",
     "output_type": "stream",
     "text": [
      "     [,1] [,2] [,3] [,4]\n",
      "[1,] p11  p12  p13  p14 \n",
      "[2,] 0.24 0.25 p23  0.09\n",
      "[3,] 0.24 0.05 0.24 p34 \n",
      "[4,] 0.13 p42  0.21 0.01\n"
     ]
    }
   ],
   "source": [
    "pij <- c('p11','p12','p13','p14',0.24,0.25,'p23',0.09,0.24,0.05,0.24,'p34',0.13,'p42',0.21,0.01)\n",
    "P <- t(matrix(pij,ncol=4))\n",
    "print(P, quote=FALSE)\n",
    "p0 <- c(0.2,0.1,0.2,0.5)"
   ]
  },
  {
   "cell_type": "markdown",
   "id": "32a56517",
   "metadata": {},
   "source": [
    "Знаходимо невідомі елементи, враховуючи за правило, що сума елементів у кожному ряду = 1. Оскільки це поглинаючий ланцюг, то P[1,1] буде дорівнювати одиниці, а решта елементів рядку - нулю."
   ]
  },
  {
   "cell_type": "code",
   "execution_count": 2,
   "id": "2fc1bc81",
   "metadata": {},
   "outputs": [
    {
     "name": "stderr",
     "output_type": "stream",
     "text": [
      "Warning message in eval(expr, envir, enclos):\n",
      "\"NAs introduced by coercion\"\n",
      "Warning message in eval(expr, envir, enclos):\n",
      "\"NAs introduced by coercion\"\n",
      "Warning message in eval(expr, envir, enclos):\n",
      "\"NAs introduced by coercion\"\n"
     ]
    },
    {
     "name": "stdout",
     "output_type": "stream",
     "text": [
      "\n",
      "Now we got:\n",
      "     [,1] [,2] [,3] [,4]\n",
      "[1,] 1.00 0.00 0.00 0.00\n",
      "[2,] 0.24 0.25 0.42 0.09\n",
      "[3,] 0.24 0.05 0.24 0.47\n",
      "[4,] 0.13 0.65 0.21 0.01\n"
     ]
    }
   ],
   "source": [
    "P[1,1] <- 1\n",
    "P[1,2:4] <- 0\n",
    "for (i in 2:4){\n",
    "  for (k in 1:4){\n",
    "    if (is.na(as.numeric(P[i,k]))){\n",
    "      P[i,k] <- 1-sum(as.numeric(c(P[i,-k])))\n",
    "    }\n",
    "  }\n",
    "}\n",
    "P <- apply(P,2,as.numeric)\n",
    "cat('\\nNow we got:\\n')\n",
    "print(P)"
   ]
  },
  {
   "cell_type": "markdown",
   "id": "ded1cbe3",
   "metadata": {},
   "source": [
    "Знайдена нами матриця переходів знаходиться у канонічній формі. Запишемо для неї матриці I, O, Q та R:"
   ]
  },
  {
   "cell_type": "code",
   "execution_count": 3,
   "id": "f4abad99",
   "metadata": {},
   "outputs": [
    {
     "name": "stdout",
     "output_type": "stream",
     "text": [
      "I\n",
      "[1] 1\n",
      "\n",
      "O\n",
      "     [,1] [,2] [,3]\n",
      "[1,] 0.00 0.00 0.00\n",
      "[2,] 0.25 0.42 0.09\n",
      "[3,] 0.05 0.24 0.47\n",
      "[4,] 0.65 0.21 0.01\n",
      "\n",
      "Q\n",
      "     [,1] [,2] [,3]\n",
      "[1,] 0.25 0.42 0.09\n",
      "[2,] 0.05 0.24 0.47\n",
      "[3,] 0.65 0.21 0.01\n",
      "\n",
      "R\n",
      "[1] 0.24 0.24 0.13\n"
     ]
    }
   ],
   "source": [
    "cat('I\\n')\n",
    "I <- print(P[1,1])\n",
    "cat('\\nO\\n')\n",
    "o <- print(P[,2:4])\n",
    "cat('\\nQ\\n')\n",
    "Q <- print(P[2:4,2:4])\n",
    "cat('\\nR\\n')\n",
    "R <- print(P[2:4,1])"
   ]
  },
  {
   "cell_type": "markdown",
   "id": "912fef20",
   "metadata": {},
   "source": [
    "Щоб знайти фундаментальну матрицю будемо використовувати формулу \n",
    "$N=(I-Q)^{-1}$. Для початку знайдемо матрицю I-Q:"
   ]
  },
  {
   "cell_type": "code",
   "execution_count": 4,
   "id": "4e68f531",
   "metadata": {},
   "outputs": [
    {
     "name": "stderr",
     "output_type": "stream",
     "text": [
      "Warning message in matrix(c(1, 0, 0, 0), 3, 3):\n",
      "\"data length [4] is not a sub-multiple or multiple of the number of rows [3]\"\n"
     ]
    },
    {
     "name": "stdout",
     "output_type": "stream",
     "text": [
      "     [,1] [,2] [,3]\n",
      "[1,]    1    0    0\n",
      "[2,]    0    1    0\n",
      "[3,]    0    0    1\n",
      "      [,1]  [,2]  [,3]\n",
      "[1,]  0.75 -0.42 -0.09\n",
      "[2,] -0.05  0.76 -0.47\n",
      "[3,] -0.65 -0.21  0.99\n"
     ]
    }
   ],
   "source": [
    "Im <-print(matrix(c(1,0,0,0),3,3))\n",
    "\n",
    "ImQ <- print(Im-Q)"
   ]
  },
  {
   "cell_type": "markdown",
   "id": "e7567189",
   "metadata": {},
   "source": [
    "Тепер знаходимо обернену до цієї"
   ]
  },
  {
   "cell_type": "code",
   "execution_count": 5,
   "id": "b117517b",
   "metadata": {},
   "outputs": [
    {
     "name": "stdout",
     "output_type": "stream",
     "text": [
      "N=\n",
      "         [,1]     [,2]      [,3]\n",
      "[1,] 2.210163 1.469723 0.8986713\n",
      "[2,] 1.200257 2.312608 1.2070190\n",
      "[3,] 1.705717 1.455523 1.8561720\n"
     ]
    }
   ],
   "source": [
    "cat('N=\\n')\n",
    "N <- print(solve(ImQ))"
   ]
  },
  {
   "cell_type": "markdown",
   "id": "d3e1fafb",
   "metadata": {},
   "source": [
    "Середня кількість кроків, яку ланцюг знаходиться у стані j, коли процес почався зі стану і, визначається елементом фундаментальної матриці N, що знаходиться на перетині i-того рядка та j-того стовбчика. Тобто N[i,j]. Виводимо середню кількість кроків i -> j"
   ]
  },
  {
   "cell_type": "code",
   "execution_count": 6,
   "id": "629ce115",
   "metadata": {},
   "outputs": [
    {
     "name": "stdout",
     "output_type": "stream",
     "text": [
      "W 2  -> W 2 :  2.210163 \n",
      "W 2  -> W 3 :  1.469723 \n",
      "W 2  -> W 4 :  0.8986713 \n",
      "W 3  -> W 2 :  1.200257 \n",
      "W 3  -> W 3 :  2.312608 \n",
      "W 3  -> W 4 :  1.207019 \n",
      "W 4  -> W 2 :  1.705717 \n",
      "W 4  -> W 3 :  1.455523 \n",
      "W 4  -> W 4 :  1.856172 \n"
     ]
    }
   ],
   "source": [
    "for (i in 1:3){for (j in 1:3){cat('W',i+1,' -> W',j+1,': ',N[i,j],'\\n')}}"
   ]
  },
  {
   "cell_type": "markdown",
   "id": "21712b66",
   "metadata": {},
   "source": [
    "Середня кількість кроків, яку ланцюг знаходиться у стані j, без заданого початку"
   ]
  },
  {
   "cell_type": "code",
   "execution_count": 39,
   "id": "b62ee2cd",
   "metadata": {},
   "outputs": [
    {
     "name": "stdout",
     "output_type": "stream",
     "text": [
      "W 2 :  1.705379 \n",
      "W 3 :  1.745951 \n",
      "W 4 :  1.320621 \n"
     ]
    }
   ],
   "source": [
    "W <- sapply(1:3,function(x) sum(N[,x])/3)\n",
    "for (i in 1:3){cat('W',i+1,': ', W[i],'\\n')}"
   ]
  },
  {
   "cell_type": "markdown",
   "id": "0d9a34db",
   "metadata": {},
   "source": [
    "Середній час поглинання визначається за формулою $\\varsigma = N*\\xi$, де $\\xi = \\begin{matrix}\n",
    "1\\\\\n",
    "1\\\\\n",
    "1 \n",
    "\\end{matrix} $"
   ]
  },
  {
   "cell_type": "code",
   "execution_count": 40,
   "id": "8118d7d8",
   "metadata": {},
   "outputs": [
    {
     "name": "stdout",
     "output_type": "stream",
     "text": [
      "         [,1]\n",
      "[1,] 4.578558\n",
      "[2,] 4.719884\n",
      "[3,] 5.017412\n"
     ]
    }
   ],
   "source": [
    "varsig<- print(N%*%matrix(c(1,1,1)))"
   ]
  },
  {
   "cell_type": "markdown",
   "id": "f1afbf53",
   "metadata": {},
   "source": [
    "Ймовірність поглинання шукається за формулою B=N*R"
   ]
  },
  {
   "cell_type": "code",
   "execution_count": 41,
   "id": "927e1494",
   "metadata": {},
   "outputs": [
    {
     "name": "stdout",
     "output_type": "stream",
     "text": [
      "Matrix R:\n",
      "[1] 0.24 0.24 0.13\n",
      "Matrix N:\n",
      "         [,1]     [,2]      [,3]\n",
      "[1,] 2.210163 1.469723 0.8986713\n",
      "[2,] 1.200257 2.312608 1.2070190\n",
      "[3,] 1.705717 1.455523 1.8561720\n",
      "Probability of absorbtion\n",
      "     [,1]\n",
      "[1,]    1\n",
      "[2,]    1\n",
      "[3,]    1\n"
     ]
    }
   ],
   "source": [
    "cat(\"Matrix R:\\n\")\n",
    "print(R)\n",
    "cat(\"Matrix N:\\n\")\n",
    "print(N)\n",
    "cat(\"Probability of absorbtion\\n\")\n",
    "\n",
    "B <- print(N%*%R)"
   ]
  },
  {
   "cell_type": "markdown",
   "id": "a71da1a2",
   "metadata": {},
   "source": [
    "## Завдання 2\n",
    "Для регулярного ланцюга Маркова знайти: \n",
    "- матрицю переходів;\n",
    "- фінальні ймовірності;\n",
    "- фундаментальну матрицю;\n",
    "- середній час перебування в заданому стані за n=4 кроків;\n",
    "- середній час виходу ланцюга в заданий стан (в стан j, коли процес почався зі стану );\n",
    "- середній час виходу ланцюга в заданий стан (коли початковий стан не заданий);\n",
    "- середній час виходу ланцюга в заданий стан в стаціонарному режимі (коли початковий стан не заданий).\n",
    "\n",
    "Матриця переходів для мого варіанту матиме вигляд:"
   ]
  },
  {
   "cell_type": "code",
   "execution_count": 10,
   "id": "f3f309a9",
   "metadata": {},
   "outputs": [
    {
     "name": "stdout",
     "output_type": "stream",
     "text": [
      "Marix:\n",
      "     [,1]   [,2]   [,3]  \n",
      "[1,] \"0.28\" \"0.41\" \"p13\" \n",
      "[2,] \"p21\"  \"0.23\" \"0.48\"\n",
      "[3,] \"0.24\" \"p32\"  \"0.35\"\n",
      "\n",
      "p0 -> 0.42 0.14 0.44"
     ]
    }
   ],
   "source": [
    "n <- 4\n",
    "Pn <- t(matrix(c(0.28,0.41,'p13','p21',0.23,0.48,0.24,'p32',0.35),3))\n",
    "p0n <- c(0.42,0.14,0.44)\n",
    "cat(\"Marix:\\n\")\n",
    "print(Pn)\n",
    "cat(\"\\np0 ->\", p0n)\n"
   ]
  },
  {
   "cell_type": "markdown",
   "id": "76ca3c66",
   "metadata": {},
   "source": [
    "Оскільки сума елементів у рядку має дорівнювати 1, знаходимо невідомі елементи"
   ]
  },
  {
   "cell_type": "code",
   "execution_count": 11,
   "id": "20b38529",
   "metadata": {},
   "outputs": [
    {
     "name": "stderr",
     "output_type": "stream",
     "text": [
      "Warning message in eval(expr, envir, enclos):\n",
      "\"NAs introduced by coercion\"\n",
      "Warning message in eval(expr, envir, enclos):\n",
      "\"NAs introduced by coercion\"\n",
      "Warning message in eval(expr, envir, enclos):\n",
      "\"NAs introduced by coercion\"\n"
     ]
    },
    {
     "name": "stdout",
     "output_type": "stream",
     "text": [
      "\n",
      "Now we got:\n",
      "     [,1] [,2] [,3]\n",
      "[1,] 0.28 0.41 0.31\n",
      "[2,] 0.29 0.23 0.48\n",
      "[3,] 0.24 0.41 0.35\n"
     ]
    }
   ],
   "source": [
    "for (i in 1:3){\n",
    "  for (k in 1:3){\n",
    "    if (is.na(as.numeric(Pn[i,k]))){\n",
    "      Pn[i,k] <- 1-sum(as.numeric(c(Pn[i,-k])))\n",
    "    }\n",
    "  }\n",
    "}\n",
    "Pn <- apply(Pn,2, as.numeric)\n",
    "cat('\\nNow we got:\\n')\n",
    "print(Pn)"
   ]
  },
  {
   "cell_type": "markdown",
   "id": "c176e573",
   "metadata": {},
   "source": [
    "Знайдемо фінальні ймовірності: $\\vec{w} = \\vec{p_0}*\\pi^k $, де k це кількість кроків, за який регулярний процес вийде на стаціонарний режим"
   ]
  },
  {
   "cell_type": "code",
   "execution_count": 70,
   "id": "3ed433a1",
   "metadata": {},
   "outputs": [],
   "source": [
    "powM = function(n, Pn)\n",
    " {\n",
    "    if (n==1){return (Pn)}\n",
    "    if (n==2){return (Pn%*%Pn)}\n",
    "    if (n>2){return (Pn%*%powM(n-1,Pn))}\n",
    " }\n",
    "\n",
    "\n",
    "temp <- p0\n",
    "for (i in 1:100000){\n",
    "    W <-powM(i,Pn)\n",
    "    if (all(W[1,]==W[2,],W[2,]==W[3,])){\n",
    "        cat('K =',i,'regular prosses Markova reach it`s final probabilities')\n",
    "        break\n",
    "    }else{\n",
    "        temp <- W\n",
    "    }\n",
    "}\n",
    "\n",
    "fin <-as.vector(p0n %*% temp)"
   ]
  },
  {
   "cell_type": "markdown",
   "id": "3ab918a4",
   "metadata": {},
   "source": [
    "Матриця фінальних ймовірностей буде мати вигляд:"
   ]
  },
  {
   "cell_type": "code",
   "execution_count": 71,
   "id": "319f4f51",
   "metadata": {},
   "outputs": [
    {
     "name": "stdout",
     "output_type": "stream",
     "text": [
      "          [,1]      [,2]      [,3]\n",
      "[1,] 0.2680968 0.3474576 0.3844456\n",
      "[2,] 0.2680968 0.3474576 0.3844456\n",
      "[3,] 0.2680968 0.3474576 0.3844456\n"
     ]
    }
   ],
   "source": [
    "W <- print(rep(1,3)%*%t.default(fin))"
   ]
  },
  {
   "cell_type": "markdown",
   "id": "682edfdd",
   "metadata": {},
   "source": [
    "Фундаментальна матриця шукається за формулою: $ Z=(I-(\\pi-W))^{-1}$\n",
    "\n",
    "Спочатку визначимо матрицю $(\\pi-W)$"
   ]
  },
  {
   "cell_type": "code",
   "execution_count": 72,
   "id": "00097e2e",
   "metadata": {},
   "outputs": [
    {
     "name": "stdout",
     "output_type": "stream",
     "text": [
      "            [,1]        [,2]        [,3]\n",
      "[1,]  0.01190325  0.06254237 -0.07444562\n",
      "[2,]  0.02190325 -0.11745763  0.09555438\n",
      "[3,] -0.02809675  0.06254237 -0.03444562\n"
     ]
    }
   ],
   "source": [
    "Z1 <- Pn-W\n",
    "print(Z1)"
   ]
  },
  {
   "cell_type": "markdown",
   "id": "09150039",
   "metadata": {},
   "source": [
    "Тепер визначимо матрицю $(I-(\\pi-W))$"
   ]
  },
  {
   "cell_type": "code",
   "execution_count": 73,
   "id": "b6212cc1",
   "metadata": {},
   "outputs": [
    {
     "name": "stdout",
     "output_type": "stream",
     "text": [
      "            [,1]        [,2]        [,3]\n",
      "[1,]  0.98809675 -0.06254237  0.07444562\n",
      "[2,] -0.02190325  1.11745763 -0.09555438\n",
      "[3,]  0.02809675 -0.06254237  1.03444562\n"
     ]
    }
   ],
   "source": [
    "Z2 <- print(Im-Z1)"
   ]
  },
  {
   "cell_type": "markdown",
   "id": "5633a044",
   "metadata": {},
   "source": [
    "Фундаментальна матриця матиме вигляд"
   ]
  },
  {
   "cell_type": "code",
   "execution_count": 74,
   "id": "9b09bb62",
   "metadata": {},
   "outputs": [
    {
     "name": "stdout",
     "output_type": "stream",
     "text": [
      "            [,1]       [,2]        [,3]\n",
      "[1,]  1.01515974 0.05300201 -0.06816175\n",
      "[2,]  0.01763149 0.90045964  0.08190887\n",
      "[3,] -0.02650693 0.05300201  0.97350492\n"
     ]
    }
   ],
   "source": [
    "Z <- print(solve(Z2))"
   ]
  },
  {
   "cell_type": "markdown",
   "id": "4575b92f",
   "metadata": {},
   "source": [
    "Знайдемо середній час перебування в заданому стані для n=4\n",
    "Обрахунок відбувається за формулою $C = n\\vec{W}$, де n - кількість кроків"
   ]
  },
  {
   "cell_type": "code",
   "execution_count": 75,
   "id": "2a611d2c",
   "metadata": {},
   "outputs": [
    {
     "name": "stdout",
     "output_type": "stream",
     "text": [
      "[1] 1.072387 1.389831 1.537782\n"
     ]
    }
   ],
   "source": [
    "C <- print(4*W[1,])\n"
   ]
  },
  {
   "cell_type": "markdown",
   "id": "2b488531",
   "metadata": {},
   "source": [
    "Середній час виходу ланцюга в стан j, коли початковий стан почався зі стану n\n",
    "Це визначається елементом [n,j] матриці М, що визначається:\n",
    "$ M = (I-Z + E*Z_{dg})*D$, де \n",
    "- I - одинична матриця\n",
    "- Z - фундаментальна матриця\n",
    "- E - матриця з одиниць\n",
    "- $Z_{dg}$ - матриця, де на діагоналі елементи фундаментальної матриці\n",
    "- D - діагональна матриця, елементи якої визначаються як $d_{i,i} = \\frac{1}{w_i}$, де $w_i$ - елементи вектору $\\vec{W}$\n",
    "\n",
    "Спочатку знайдемо матрицю $E*Z_{dg}$"
   ]
  },
  {
   "cell_type": "code",
   "execution_count": 85,
   "id": "a4bec26f",
   "metadata": {},
   "outputs": [
    {
     "name": "stdout",
     "output_type": "stream",
     "text": [
      "        [,1]      [,2]      [,3]\n",
      "[1,] 1.01516 0.9004596 0.9735049\n",
      "[2,] 1.01516 0.9004596 0.9735049\n",
      "[3,] 1.01516 0.9004596 0.9735049\n"
     ]
    }
   ],
   "source": [
    "Zdg <- matrix(c(Z[1,1],rep(0,3),Z[2,2],rep(0,3),Z[3,3]),3)\n",
    "\n",
    "EZdg <- print(matrix(1,3,3)%*%Zdg)"
   ]
  },
  {
   "cell_type": "markdown",
   "id": "f1401868",
   "metadata": {},
   "source": [
    "Тепер визначимо матрицю I-Z"
   ]
  },
  {
   "cell_type": "code",
   "execution_count": 77,
   "id": "72ee194e",
   "metadata": {},
   "outputs": [
    {
     "name": "stdout",
     "output_type": "stream",
     "text": [
      "            [,1]        [,2]        [,3]\n",
      "[1,] -0.01515974 -0.05300201  0.06816175\n",
      "[2,] -0.01763149  0.09954036 -0.08190887\n",
      "[3,]  0.02650693 -0.05300201  0.02649508\n"
     ]
    }
   ],
   "source": [
    "IZ <- print(Im - Z)"
   ]
  },
  {
   "cell_type": "markdown",
   "id": "362706fd",
   "metadata": {},
   "source": [
    "Тепер шукаємо матрицю $(I-Z + E*Z_{dg})$"
   ]
  },
  {
   "cell_type": "code",
   "execution_count": 78,
   "id": "dfd72b57",
   "metadata": {},
   "outputs": [
    {
     "name": "stdout",
     "output_type": "stream",
     "text": [
      "          [,1]      [,2]     [,3]\n",
      "[1,] 1.0000000 0.8474576 1.041667\n",
      "[2,] 0.9975282 1.0000000 0.891596\n",
      "[3,] 1.0416667 0.8474576 1.000000\n"
     ]
    }
   ],
   "source": [
    "Mk <- print(IZ + EZdg)"
   ]
  },
  {
   "cell_type": "markdown",
   "id": "b46804c9",
   "metadata": {},
   "source": [
    "Визначаємо матрицю D = \n",
    "$\\begin{pmatrix}\n",
    "  \\frac{1}{w_1} & 0 & 0 \\\\\n",
    "  0 & \\frac{1}{w_2} & 0 \\\\\n",
    "  0 & 0 & \\frac{1}{w_3}\n",
    " \\end{pmatrix}$\n"
   ]
  },
  {
   "cell_type": "code",
   "execution_count": 79,
   "id": "203e4dfd",
   "metadata": {},
   "outputs": [
    {
     "name": "stdout",
     "output_type": "stream",
     "text": [
      "         [,1]     [,2]     [,3]\n",
      "[1,] 3.729997 0.000000 0.000000\n",
      "[2,] 0.000000 2.878049 0.000000\n",
      "[3,] 0.000000 0.000000 2.601148\n"
     ]
    }
   ],
   "source": [
    "D <- matrix(c(1/W[1,1],rep(0,3),1/W[2,2],rep(0,3),1/W[3,3]),3)\n",
    "print(D)"
   ]
  },
  {
   "cell_type": "markdown",
   "id": "dad773ba",
   "metadata": {},
   "source": [
    "Тепер знаходимо матрицю $ M = (I-Z + E*Z_{dg})*D$"
   ]
  },
  {
   "cell_type": "code",
   "execution_count": 80,
   "id": "6f556fb5",
   "metadata": {},
   "outputs": [
    {
     "name": "stdout",
     "output_type": "stream",
     "text": [
      "         [,1]     [,2]     [,3]\n",
      "[1,] 3.729997 2.439024 2.709529\n",
      "[2,] 3.720777 2.878049 2.319173\n",
      "[3,] 3.885413 2.439024 2.601148\n"
     ]
    }
   ],
   "source": [
    "M <- print(Mk %*% D)"
   ]
  },
  {
   "cell_type": "markdown",
   "id": "a5daddb1",
   "metadata": {},
   "source": [
    "Середній час виходу ланцюга в стан j зі стану i буде становити:"
   ]
  },
  {
   "cell_type": "code",
   "execution_count": 81,
   "id": "c5e14187",
   "metadata": {},
   "outputs": [
    {
     "name": "stdout",
     "output_type": "stream",
     "text": [
      "W 1  -> W 1 :  3.729997 \n",
      "W 1  -> W 2 :  2.439024 \n",
      "W 1  -> W 3 :  2.709529 \n",
      "W 2  -> W 1 :  3.720777 \n",
      "W 2  -> W 2 :  2.878049 \n",
      "W 2  -> W 3 :  2.319173 \n",
      "W 3  -> W 1 :  3.885413 \n",
      "W 3  -> W 2 :  2.439024 \n",
      "W 3  -> W 3 :  2.601148 \n"
     ]
    }
   ],
   "source": [
    "for (i in 1:3){for (j in 1:3){cat('W',i,' -> W',j,': ',M[i,j],'\\n')}}"
   ]
  },
  {
   "cell_type": "markdown",
   "id": "ed11fc19",
   "metadata": {},
   "source": [
    "Тепер визначимо середній час виходу ланцюга в заданий стан, за умови, що початковий стан не задано\n",
    "Обраховується це як $W_i:(M_{i1} + M_{i2} + M_{i3}):3 $"
   ]
  },
  {
   "cell_type": "code",
   "execution_count": 82,
   "id": "aa948a57",
   "metadata": {},
   "outputs": [
    {
     "name": "stdout",
     "output_type": "stream",
     "text": [
      "W 1 : 2.959517 \n",
      "W 2 : 2.972666 \n",
      "W 3 : 2.975195 \n"
     ]
    }
   ],
   "source": [
    "w1 <- sum(M[1,])/3\n",
    "w2 <- sum(M[2,])/3 \n",
    "w3 <- sum(M[3,])/3\n",
    "Ww <- c(w1,w2,w3)\n",
    "for (i in 1:3){\n",
    "    cat(\"W\",i,\":\", Ww[i],'\\n')\n",
    "}"
   ]
  },
  {
   "cell_type": "markdown",
   "id": "23ffd40a",
   "metadata": {},
   "source": [
    "Дізнаємося середній час виходу ланцюга в заданий стан і стаціонарному режимі, коли початковий стан не вказано. Будемо використовувати формулу $D=\\frac{1}{w_i}$"
   ]
  },
  {
   "cell_type": "code",
   "execution_count": 83,
   "id": "f4c4eb78",
   "metadata": {},
   "outputs": [
    {
     "name": "stdout",
     "output_type": "stream",
     "text": [
      "[1] 3.729997 2.878049 2.601148\n"
     ]
    }
   ],
   "source": [
    "D <- print(sapply(1:3, function(i) 1/(W[1,i])))"
   ]
  },
  {
   "cell_type": "markdown",
   "id": "765fb0c2",
   "metadata": {},
   "source": [
    "## Завдання 3 - на R не вийшло, тому моделюю його на пайтоні у іншому файлі"
   ]
  },
  {
   "cell_type": "code",
   "execution_count": null,
   "id": "1dabfea7",
   "metadata": {},
   "outputs": [],
   "source": []
  }
 ],
 "metadata": {
  "kernelspec": {
   "display_name": "R",
   "language": "R",
   "name": "ir"
  },
  "language_info": {
   "codemirror_mode": "r",
   "file_extension": ".r",
   "mimetype": "text/x-r-source",
   "name": "R",
   "pygments_lexer": "r",
   "version": "4.1.2"
  }
 },
 "nbformat": 4,
 "nbformat_minor": 5
}